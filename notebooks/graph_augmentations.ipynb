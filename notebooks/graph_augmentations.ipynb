{
 "cells": [
  {
   "cell_type": "markdown",
   "id": "0",
   "metadata": {},
   "source": [
    "# Graph Augmentations"
   ]
  },
  {
   "cell_type": "markdown",
   "id": "1",
   "metadata": {},
   "source": [
    "## Library Import"
   ]
  },
  {
   "cell_type": "code",
   "execution_count": null,
   "id": "2",
   "metadata": {},
   "outputs": [],
   "source": [
    "import os\n",
    "from copy import deepcopy\n",
    "\n",
    "import matplotlib.pyplot as plt\n",
    "import networkx as nx\n",
    "import numpy as np\n",
    "import rootutils\n",
    "import torch\n",
    "import torch_geometric\n",
    "from sklearn.cluster import KMeans\n",
    "from sklearn.neighbors import NearestNeighbors\n",
    "from sklearn.preprocessing import StandardScaler\n",
    "from torch_geometric.data import Data\n",
    "from torch_geometric.utils import degree, to_networkx\n",
    "\n",
    "rootutils.setup_root(os.getcwd(), indicator=\".project-root\", pythonpath=True)\n",
    "\n",
    "from src.utils.graph_augmentations import get_graph_augmentation\n",
    "\n",
    "np.random.seed(44)\n",
    "torch.manual_seed(44)\n",
    "torch.cuda.manual_seed(44)"
   ]
  },
  {
   "cell_type": "markdown",
   "id": "3",
   "metadata": {},
   "source": [
    "## Helper Functions"
   ]
  },
  {
   "cell_type": "code",
   "execution_count": null,
   "id": "4",
   "metadata": {},
   "outputs": [],
   "source": [
    "def visualize_graph(graph, color):\n",
    "    G = to_networkx(graph, to_undirected=False)\n",
    "\n",
    "    plt.figure(figsize=(7, 7))\n",
    "    plt.xticks([])\n",
    "    plt.yticks([])\n",
    "    nx.draw_networkx(\n",
    "        G, pos=nx.spring_layout(G, seed=42), with_labels=True, node_color=color, cmap=\"Set2\"\n",
    "    )\n",
    "    plt.show()"
   ]
  },
  {
   "cell_type": "markdown",
   "id": "5",
   "metadata": {},
   "source": [
    "## Example Graph"
   ]
  },
  {
   "cell_type": "markdown",
   "id": "6",
   "metadata": {},
   "source": [
    "x = torch.tensor([[1, 5], [4, 2], [3, 6], [7, 8], [0, 3], [4, 7]], dtype=torch.float)\n",
    "edge_index = torch.tensor([[0, 3, 2, 1, 4, 4, 4, 4], [1, 5, 3, 4, 5, 3, 1, 0]], dtype=torch.long)\n",
    "edge_weight = torch.ones(edge_index.size(1), dtype=torch.float)\n",
    "sample_name = \"example_graph\"\n",
    "position = torch.tensor([[0, 0], [1, 0], [0, 1], [1, 1], [2, 0], [2, 1]], dtype=torch.float)\n",
    "\n",
    "graph = Data(\n",
    "    x=x,\n",
    "    edge_index=edge_index,\n",
    "    edge_weight=edge_weight,\n",
    "    sample_name=sample_name,\n",
    "    position=position,\n",
    ")\n",
    "graph.edge_index = torch_geometric.utils.to_undirected(graph.edge_index)\n",
    "graph.edge_weight = torch.ones(graph.edge_index.size(1), dtype=torch.float)\n",
    "\n",
    "graph"
   ]
  },
  {
   "cell_type": "code",
   "execution_count": null,
   "id": "7",
   "metadata": {},
   "outputs": [],
   "source": [
    "np.random.seed(44)\n",
    "torch.manual_seed(44)\n",
    "torch.cuda.manual_seed(44)\n",
    "\n",
    "num_nodes = 10000\n",
    "num_features = 50\n",
    "k = 10\n",
    "num_groups = 5\n",
    "noise_scale = 0.05\n",
    "position_noise_scale = 0.2\n",
    "\n",
    "group_features = torch.rand((num_groups, num_features), dtype=torch.float)\n",
    "group_assignments = torch.randint(0, num_groups, (num_nodes,))\n",
    "x = group_features[group_assignments] + noise_scale * torch.randn((num_nodes, num_features))\n",
    "\n",
    "group_positions = torch.rand((num_groups, 2), dtype=torch.float)\n",
    "positions = group_positions[group_assignments] + position_noise_scale * torch.randn((num_nodes, 2))\n",
    "\n",
    "nbrs = NearestNeighbors(n_neighbors=k, algorithm=\"ball_tree\").fit(positions)\n",
    "distances, indices = nbrs.kneighbors(positions)\n",
    "edge_index = []\n",
    "for i, neighbors in enumerate(indices):\n",
    "    for neighbor in neighbors:\n",
    "        if neighbor != i:\n",
    "            edge_index.append([i, neighbor])\n",
    "\n",
    "edge_index = torch.tensor(edge_index, dtype=torch.long).t().contiguous()\n",
    "edge_weight = torch.ones(edge_index.size(1), dtype=torch.float)\n",
    "\n",
    "graph = Data(x=x, edge_index=edge_index, edge_weight=edge_weight, position=positions)\n",
    "\n",
    "graph.edge_index = torch_geometric.utils.to_undirected(graph.edge_index)\n",
    "graph.edge_weight = torch.ones(graph.edge_index.size(1), dtype=torch.float)\n",
    "graph.sample_name = \"example_graph\"\n",
    "\n",
    "graph"
   ]
  },
  {
   "cell_type": "markdown",
   "id": "8",
   "metadata": {},
   "source": [
    "## Graph Augmentations"
   ]
  },
  {
   "cell_type": "code",
   "execution_count": null,
   "id": "9",
   "metadata": {},
   "outputs": [],
   "source": [
    "transform1 = get_graph_augmentation(\n",
    "    augmentation_mode=\"advanced\",\n",
    "    drop_edge_p=0.3,\n",
    "    drop_feat_p=0.3,\n",
    "    mu=0.3,\n",
    "    p_lambda=0.3,\n",
    "    p_rewire=0.1,\n",
    "    p_shuffle=0.1,\n",
    ")\n",
    "transform1"
   ]
  },
  {
   "cell_type": "code",
   "execution_count": null,
   "id": "10",
   "metadata": {},
   "outputs": [],
   "source": [
    "transform2 = get_graph_augmentation(\n",
    "    augmentation_mode=\"baseline\",\n",
    "    drop_edge_p=0.3,\n",
    "    drop_feat_p=0.3,\n",
    "    mu=0.1,\n",
    "    p_lambda=0.1,\n",
    "    p_rewire=0.2,\n",
    "    p_shuffle=0.2,\n",
    ")\n",
    "transform2"
   ]
  },
  {
   "cell_type": "code",
   "execution_count": null,
   "id": "11",
   "metadata": {},
   "outputs": [],
   "source": [
    "aug1 = transform1(graph)\n",
    "aug1"
   ]
  },
  {
   "cell_type": "code",
   "execution_count": null,
   "id": "12",
   "metadata": {},
   "outputs": [],
   "source": [
    "aug2 = transform2(graph)\n",
    "aug2"
   ]
  },
  {
   "cell_type": "code",
   "execution_count": null,
   "id": "13",
   "metadata": {},
   "outputs": [],
   "source": [
    "aug1.is_undirected()"
   ]
  },
  {
   "cell_type": "code",
   "execution_count": null,
   "id": "14",
   "metadata": {},
   "outputs": [],
   "source": [
    "visualize_graph(aug1, color=\"red\")\n",
    "visualize_graph(aug2, color=\"green\")"
   ]
  },
  {
   "cell_type": "markdown",
   "id": "15",
   "metadata": {},
   "source": [
    "## Proprotional Resampling"
   ]
  },
  {
   "cell_type": "markdown",
   "id": "16",
   "metadata": {},
   "source": [
    "alpha = 0.0  # weighting factor: 0 = only spatial, 1 = only expression\n",
    "n_clusters = 5\n",
    "new_distribution = None\n",
    "\n",
    "x = data.x.cpu().numpy()\n",
    "pos = data.position.cpu().numpy()\n",
    "\n",
    "x_scaled = StandardScaler().fit_transform(x)\n",
    "pos_scaled = StandardScaler().fit_transform(pos)\n",
    "combined_features = np.concatenate([alpha * x_scaled, (1 - alpha) * pos_scaled], axis=1)\n",
    "\n",
    "kmeans = KMeans(n_clusters=n_clusters, random_state=44).fit(combined_features)\n",
    "cluster_labels = kmeans.labels_\n",
    "cluster_to_indices = {i: np.where(cluster_labels == i)[0] for i in range(n_clusters)}\n",
    "\n",
    "if new_distribution is None:\n",
    "    new_distribution = {i: 1/n_clusters for i in range(n_clusters)}\n",
    "\n",
    "new_node_indices = []\n",
    "for cluster_id, proportion in new_distribution.items():\n",
    "    n = int(proportion * data.num_nodes)\n",
    "    candidates = cluster_to_indices[cluster_id]\n",
    "    chosen = np.random.choice(candidates, n, replace=len(candidates) < n)\n",
    "    new_node_indices.extend(chosen)\n",
    "\n",
    "new_node_indices = torch.tensor(new_node_indices, dtype=torch.long)\n",
    "\n",
    "from torch_geometric.utils import subgraph\n",
    "new_edge_index, new_edge_weight = subgraph(\n",
    "    subset=new_node_indices, edge_index=data.edge_index, edge_attr=data.edge_weight, relabel_nodes=True\n",
    ")\n",
    "data = Data(\n",
    "    x=data.x[new_node_indices],\n",
    "    edge_index=new_edge_index,\n",
    "    edge_weight=new_edge_weight,\n",
    "    position=data.position[new_node_indices],\n",
    "    sample_name=data.sample_name,\n",
    ")"
   ]
  }
 ],
 "metadata": {
  "kernelspec": {
   "display_name": "augmentation",
   "language": "python",
   "name": "python3"
  },
  "language_info": {
   "codemirror_mode": {
    "name": "ipython",
    "version": 3
   },
   "file_extension": ".py",
   "mimetype": "text/x-python",
   "name": "python",
   "nbconvert_exporter": "python",
   "pygments_lexer": "ipython3",
   "version": "3.9.21"
  }
 },
 "nbformat": 4,
 "nbformat_minor": 5
}
