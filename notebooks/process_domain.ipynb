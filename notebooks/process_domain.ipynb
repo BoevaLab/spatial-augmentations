{
 "cells": [
  {
   "cell_type": "code",
   "execution_count": 22,
   "metadata": {},
   "outputs": [],
   "source": [
    "import os\n",
    "import torch\n",
    "import numpy as np\n",
    "import scanpy as sc\n",
    "import rootutils\n",
    "from torch_geometric.data import Data\n",
    "from sklearn.neighbors import NearestNeighbors\n",
    "rootutils.setup_root(os.getcwd(), indicator=\".project-root\", pythonpath=True)\n",
    "from src.data.spatial_omics_datamodule import SpatialOmicsDataModule\n",
    "from src.utils.preprocess_helpers import (\n",
    "    read_samples_into_dict,\n",
    "    save_sample,\n",
    "    preprocess_sample,\n",
    "    euclid_dist,\n",
    "    create_graph,\n",
    "    SpatialOmicsDataset\n",
    ")"
   ]
  },
  {
   "cell_type": "code",
   "execution_count": 2,
   "metadata": {},
   "outputs": [],
   "source": [
    "def print_sample(sample_name, adata):\n",
    "    \"\"\"\n",
    "    Visualizes spatial embeddings of a single AnnData object and prints its details.\n",
    "\n",
    "    Parameters:\n",
    "    ----------\n",
    "    sample_name : str\n",
    "        The name of the sample.\n",
    "    adata : AnnData\n",
    "        The AnnData object containing spatial and gene expression data.\n",
    "\n",
    "    Behavior:\n",
    "    --------\n",
    "    - Prints the sample name and the corresponding AnnData object.\n",
    "    - Determines the color key (`domain`, `region`, or `layer`) based on the sample name prefix.\n",
    "    - Plots the spatial embedding of the AnnData object using `scanpy.pl.embedding`.\n",
    "\n",
    "    Notes:\n",
    "    -----\n",
    "    - The `domain` is used for samples starting with \"MERFISH\".\n",
    "    - The `region` is used for samples starting with \"STARmap\".\n",
    "    - The `layer` is used for samples starting with \"BaristaSeq\".\n",
    "    - The spatial embedding is visualized using the `spatial` basis.\n",
    "    \"\"\"\n",
    "    if sample_name.startswith(\"MERFISH\"):\n",
    "        domain = \"domain\"\n",
    "    elif sample_name.startswith(\"STARmap\"):\n",
    "        domain = \"region\"\n",
    "    elif sample_name.startswith(\"BaristaSeq\"):\n",
    "        domain = \"layer\"\n",
    "    \n",
    "    print(f\"Sample: {sample_name}\")\n",
    "    print(adata)\n",
    "    sc.pl.embedding(adata, basis=\"spatial\", color=domain)"
   ]
  },
  {
   "cell_type": "code",
   "execution_count": 3,
   "metadata": {},
   "outputs": [
    {
     "name": "stdout",
     "output_type": "stream",
     "text": [
      "12\n",
      "12\n",
      "12\n"
     ]
    }
   ],
   "source": [
    "raw_file_paths = [\n",
    "    \"../data/domain/raw/MERFISH_small1.h5ad\",\n",
    "    \"../data/domain/raw/MERFISH_small2.h5ad\",\n",
    "    \"../data/domain/raw/MERFISH_small3.h5ad\",\n",
    "    \"../data/domain/raw/MERFISH_small4.h5ad\",\n",
    "    \"../data/domain/raw/MERFISH_small5.h5ad\",\n",
    "    \"../data/domain/raw/STARmap1.h5ad\",\n",
    "    \"../data/domain/raw/STARmap2.h5ad\",\n",
    "    \"../data/domain/raw/STARmap3.h5ad\",\n",
    "    \"../data/domain/raw/STARmap4.h5ad\",\n",
    "    \"../data/domain/raw/BaristaSeq1.h5ad\",\n",
    "    \"../data/domain/raw/BaristaSeq2.h5ad\",\n",
    "    \"../data/domain/raw/BaristaSeq3.h5ad\"\n",
    "]\n",
    "\n",
    "processed_file_paths = [\n",
    "    \"../data/domain/processed/MERFISH_small1.h5ad\",\n",
    "    \"../data/domain/processed/MERFISH_small2.h5ad\",\n",
    "    \"../data/domain/processed/MERFISH_small3.h5ad\",\n",
    "    \"../data/domain/processed/MERFISH_small4.h5ad\",\n",
    "    \"../data/domain/processed/MERFISH_small5.h5ad\",\n",
    "    \"../data/domain/processed/STARmap1.h5ad\",\n",
    "    \"../data/domain/processed/STARmap2.h5ad\",\n",
    "    \"../data/domain/processed/STARmap3.h5ad\",\n",
    "    \"../data/domain/processed/STARmap4.h5ad\",\n",
    "    \"../data/domain/processed/BaristaSeq1.h5ad\",\n",
    "    \"../data/domain/processed/BaristaSeq2.h5ad\",\n",
    "    \"../data/domain/processed/BaristaSeq3.h5ad\"\n",
    "]\n",
    "\n",
    "\n",
    "raw_samples = read_samples_into_dict(raw_file_paths)\n",
    "print(len(raw_samples))\n",
    "\n",
    "processed_samples = read_samples_into_dict(processed_file_paths)\n",
    "print(len(processed_samples))\n",
    "\n",
    "graphs = torch.load(\"../data/domain/processed/dataset.pt\", weights_only=False)\n",
    "print(len(graphs))"
   ]
  },
  {
   "cell_type": "code",
   "execution_count": 30,
   "metadata": {},
   "outputs": [
    {
     "name": "stdout",
     "output_type": "stream",
     "text": [
      "Data(x=[1512, 50], edge_index=[2, 50170], edge_weight=[50170], sample_name='BaristaSeq1')\n",
      "Data(x=[5488, 50], edge_index=[2, 178606], edge_weight=[178606], sample_name='MERFISH_small1')\n",
      "Data(x=[1088, 50], edge_index=[2, 36254], edge_weight=[36254], sample_name='STARmap4')\n",
      "Data(x=[1049, 50], edge_index=[2, 34960], edge_weight=[34960], sample_name='STARmap2')\n",
      "Data(x=[1053, 50], edge_index=[2, 35386], edge_weight=[35386], sample_name='STARmap3')\n",
      "Data(x=[5543, 50], edge_index=[2, 180856], edge_weight=[180856], sample_name='MERFISH_small5')\n",
      "Data(x=[5803, 50], edge_index=[2, 188964], edge_weight=[188964], sample_name='MERFISH_small4')\n",
      "Data(x=[1207, 50], edge_index=[2, 40370], edge_weight=[40370], sample_name='STARmap1')\n",
      "Data(x=[1627, 50], edge_index=[2, 53984], edge_weight=[53984], sample_name='BaristaSeq3')\n",
      "Data(x=[5926, 50], edge_index=[2, 193204], edge_weight=[193204], sample_name='MERFISH_small3')\n",
      "Data(x=[5557, 50], edge_index=[2, 182046], edge_weight=[182046], sample_name='MERFISH_small2')\n",
      "Data(x=[2017, 50], edge_index=[2, 66308], edge_weight=[66308], sample_name='BaristaSeq2')\n"
     ]
    }
   ],
   "source": [
    "for g in graphs:\n",
    "    print(g)"
   ]
  },
  {
   "cell_type": "code",
   "execution_count": null,
   "metadata": {},
   "outputs": [],
   "source": []
  }
 ],
 "metadata": {
  "kernelspec": {
   "display_name": "augmentation",
   "language": "python",
   "name": "python3"
  },
  "language_info": {
   "codemirror_mode": {
    "name": "ipython",
    "version": 3
   },
   "file_extension": ".py",
   "mimetype": "text/x-python",
   "name": "python",
   "nbconvert_exporter": "python",
   "pygments_lexer": "ipython3",
   "version": "3.9.21"
  }
 },
 "nbformat": 4,
 "nbformat_minor": 2
}
