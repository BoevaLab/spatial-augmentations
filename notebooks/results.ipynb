{
 "cells": [
  {
   "cell_type": "markdown",
   "id": "0",
   "metadata": {},
   "source": [
    "# Results"
   ]
  },
  {
   "cell_type": "markdown",
   "id": "1",
   "metadata": {},
   "source": [
    "## Library Import"
   ]
  },
  {
   "cell_type": "code",
   "execution_count": null,
   "id": "2",
   "metadata": {},
   "outputs": [],
   "source": [
    "import matplotlib.pyplot as plt\n",
    "import pandas as pd\n",
    "import scanpy as sc\n",
    "import seaborn as sns"
   ]
  },
  {
   "cell_type": "markdown",
   "id": "3",
   "metadata": {},
   "source": [
    "## Helper Functions"
   ]
  },
  {
   "cell_type": "code",
   "execution_count": null,
   "id": "4",
   "metadata": {},
   "outputs": [],
   "source": []
  },
  {
   "cell_type": "markdown",
   "id": "5",
   "metadata": {},
   "source": [
    "## Domain123 Baseline"
   ]
  },
  {
   "cell_type": "code",
   "execution_count": null,
   "id": "6",
   "metadata": {},
   "outputs": [],
   "source": [
    "test_results = pd.read_csv(\n",
    "    \"../data/domain/results/domain123/2025-04-16_08-55-57/csv/version_0/test_results.csv\"\n",
    ")\n",
    "test_results = test_results.map(\n",
    "    lambda x: float(x.split(\"(\")[-1].rstrip(\")\")) if isinstance(x, str) and \"tensor\" in x else x\n",
    ")\n",
    "test_results"
   ]
  },
  {
   "cell_type": "code",
   "execution_count": null,
   "id": "7",
   "metadata": {},
   "outputs": [],
   "source": [
    "test_results_melted = test_results.melt(\n",
    "    id_vars=\"sample_name\",\n",
    "    value_vars=[\"nmi\", \"homogeneity\", \"completeness\"],\n",
    "    var_name=\"Metric\",\n",
    "    value_name=\"Score\",\n",
    ")\n",
    "\n",
    "sns.set(style=\"whitegrid\")\n",
    "fig, axes = plt.subplots(nrows=1, ncols=3, figsize=(4, 2), sharex=True)\n",
    "\n",
    "metrics = [\"nmi\", \"homogeneity\", \"completeness\"]\n",
    "titles = [\"NMI\", \"HOM\", \"COM\"]\n",
    "\n",
    "for ax, metric, title in zip(axes, metrics, titles):\n",
    "    sns.boxplot(\n",
    "        x=\"Score\",\n",
    "        y=\"Metric\",\n",
    "        data=test_results_melted[test_results_melted[\"Metric\"] == metric],\n",
    "        ax=ax,\n",
    "        orient=\"h\",\n",
    "        dodge=False,\n",
    "    )\n",
    "    sns.stripplot(\n",
    "        x=\"Score\",\n",
    "        y=\"Metric\",\n",
    "        data=test_results_melted[test_results_melted[\"Metric\"] == metric],\n",
    "        ax=ax,\n",
    "        color=\"black\",\n",
    "        size=5,\n",
    "        jitter=True,\n",
    "        orient=\"h\",\n",
    "    )\n",
    "    ax.set_xlim(0.2, 0.8)\n",
    "    ax.set_title(title, fontsize=12)\n",
    "    ax.set_xlabel(\"Score\")\n",
    "    ax.set_ylabel(\"\")\n",
    "    ax.set_yticklabels([])\n",
    "\n",
    "    ax.set_xticks([0.05, 0.15, 0.25, 0.35, 0.45, 0.55, 0.65, 0.75, 0.85])\n",
    "    ax.set_xticklabels([\"\", \"\", \"0.25\", \"\", \"\", \"\", \"\", \"0.75\", \"\"])\n",
    "\n",
    "plt.tight_layout()\n",
    "plt.show()"
   ]
  },
  {
   "cell_type": "code",
   "execution_count": null,
   "id": "8",
   "metadata": {},
   "outputs": [],
   "source": [
    "merfish_small5 = sc.read_h5ad(\n",
    "    \"../data/domain/results/domain123/2025-04-16_08-55-57/adata_files/MERFISH_small5.h5ad\"\n",
    ")\n",
    "merfish_small5"
   ]
  },
  {
   "cell_type": "code",
   "execution_count": null,
   "id": "9",
   "metadata": {},
   "outputs": [],
   "source": [
    "merfish_small5.obsm[\"spatial\"] *= -1\n",
    "merfish_small5.obsm[\"spatial\"][:, 0] *= -1\n",
    "\n",
    "fig, ax = plt.subplots(figsize=(5, 6))\n",
    "sc.pl.embedding(\n",
    "    merfish_small5,\n",
    "    basis=\"spatial\",\n",
    "    color=\"domain_annotation\",\n",
    "    size=60,\n",
    "    title=\"Ground Truth\",\n",
    "    ax=ax,\n",
    "    show=False,\n",
    ")\n",
    "plt.show()\n",
    "\n",
    "fig, ax = plt.subplots(figsize=(5, 6))\n",
    "sc.pl.embedding(\n",
    "    merfish_small5,\n",
    "    basis=\"spatial\",\n",
    "    color=\"leiden\",\n",
    "    size=60,\n",
    "    title=\"NMI: 0.68, HOM: 0.67, COM: 0.69\",\n",
    "    ax=ax,\n",
    "    show=False,\n",
    ")\n",
    "plt.show()"
   ]
  },
  {
   "cell_type": "code",
   "execution_count": null,
   "id": "10",
   "metadata": {},
   "outputs": [],
   "source": [
    "merfish_small5.uns[\"leiden_colors\"] = [\n",
    "    merfish_small5.uns[\"leiden_colors\"][i] for i in [1, 0, 3, 4, 2, 7, 5, 6]\n",
    "]"
   ]
  }
 ],
 "metadata": {
  "kernelspec": {
   "display_name": "augmentation",
   "language": "python",
   "name": "python3"
  },
  "language_info": {
   "codemirror_mode": {
    "name": "ipython",
    "version": 3
   },
   "file_extension": ".py",
   "mimetype": "text/x-python",
   "name": "python",
   "nbconvert_exporter": "python",
   "pygments_lexer": "ipython3",
   "version": "3.9.21"
  }
 },
 "nbformat": 4,
 "nbformat_minor": 5
}
