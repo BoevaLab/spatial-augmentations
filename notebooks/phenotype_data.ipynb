{
 "cells": [
  {
   "cell_type": "markdown",
   "id": "0",
   "metadata": {},
   "source": [
    "# Phenotype Data"
   ]
  },
  {
   "cell_type": "markdown",
   "id": "1",
   "metadata": {},
   "source": [
    "## Library Import"
   ]
  },
  {
   "cell_type": "code",
   "execution_count": null,
   "id": "2",
   "metadata": {},
   "outputs": [],
   "source": [
    "import json\n",
    "import os\n",
    "\n",
    "import numpy as np\n",
    "import pandas as pd\n",
    "import scanpy as sc\n",
    "from sklearn.model_selection import train_test_split\n",
    "from tqdm import tqdm\n",
    "\n",
    "CANCER_TYPES = [\n",
    "    \"Adenocarcinoma\",\n",
    "    \"Squamous cell carcinoma\",\n",
    "    \"Adeno squamous cell carcinoma\",\n",
    "    \"Control\",\n",
    "    \"Large cell carcinoma\",\n",
    "    \"Large cell neuroendocrine carcinoma\",\n",
    "    \"NSCLC\",\n",
    "    \"Mesotheliom\",\n",
    "    \"Basaloides Ca\",\n",
    "    \"NA\",\n",
    "]\n",
    "\n",
    "TARGETS = [\n",
    "    \"Relapse\",\n",
    "    \"Ev.O\",\n",
    "    \"Grade\",\n",
    "    \"Stage\",\n",
    "    \"T.new\",\n",
    "    \"N\",\n",
    "    \"M.new\",\n",
    "    \"R\",\n",
    "    \"Chemo\",\n",
    "    \"Radio\",\n",
    "    \"DFS\",\n",
    "    \"OS\",\n",
    "    \"LN.Met\",\n",
    "    \"Dist.Met\",\n",
    "]\n",
    "\n",
    "IMC_TO_CODEX_SCALE_FACTOR = 2.75"
   ]
  },
  {
   "cell_type": "markdown",
   "id": "3",
   "metadata": {},
   "source": [
    "## NSCLC Dataset"
   ]
  },
  {
   "cell_type": "code",
   "execution_count": null,
   "id": "4",
   "metadata": {},
   "outputs": [],
   "source": [
    "adata_raw = sc.read_h5ad(\"../data/phenotype/nsclc/sce_all_annotated.h5ad\")\n",
    "adata_raw"
   ]
  },
  {
   "cell_type": "code",
   "execution_count": null,
   "id": "5",
   "metadata": {},
   "outputs": [],
   "source": [
    "def filter_for_cancer_types(cell_information, cancer_types):\n",
    "    assert set(cancer_types).issubset(set(CANCER_TYPES[:3]))\n",
    "    return cell_information.loc[cell_information[\"DX.name\"].isin(cancer_types)]\n",
    "\n",
    "\n",
    "def load_adata(adata_path, cancer_types, targets):\n",
    "    # load adata and cell information\n",
    "    adata = sc.read_h5ad(adata_path)\n",
    "    cell_information = adata.obs\n",
    "\n",
    "    # replace -2147483648 with NaN\n",
    "    cell_information_clean = cell_information.replace(-2147483648, np.nan)\n",
    "\n",
    "    # filter for cancer types\n",
    "    cell_information_clean = cell_information_clean.loc[\n",
    "        (cell_information_clean[\"DX.name\"] == \"Adenocarcinoma\")\n",
    "        | (cell_information_clean[\"DX.name\"] == \"Squamous cell carcinoma\")\n",
    "        | (cell_information_clean[\"DX.name\"] == \"Adeno squamous cell carcinoma\")\n",
    "    ]\n",
    "    cell_information_clean = filter_for_cancer_types(cell_information_clean, cancer_types)\n",
    "\n",
    "    # normalize area\n",
    "    cell_information_clean[\"Area\"] = cell_information_clean[\"Area\"] / cell_information_clean[\n",
    "        \"Area\"\n",
    "    ].quantile(0.95)\n",
    "\n",
    "    # lower cell category, type and subtype (e.g. \"T cell\" -> \"t cell\")\n",
    "    cell_information_clean[\"cell_category\"] = cell_information_clean[\"cell_category\"].str.lower()\n",
    "    cell_information_clean[\"cell_type\"] = cell_information_clean[\"cell_type\"].str.lower()\n",
    "    cell_information_clean[\"cell_subtype\"] = cell_information_clean[\"cell_subtype\"].str.lower()\n",
    "\n",
    "    # drop NaNs in cell category, type and subtype\n",
    "    cell_information_clean = cell_information_clean.dropna(\n",
    "        subset=[\"cell_category\", \"cell_type\", \"cell_subtype\"]\n",
    "    )\n",
    "\n",
    "    # convert LN.Met, Dist.Met, and NeoAdj to binary\n",
    "    cell_information_clean[\"LN.Met\"] = cell_information_clean[\"LN.Met\"].cat.rename_categories(\n",
    "        {\"No LN Metastases\": 0, \"LN Metastases\": 1}\n",
    "    )\n",
    "    cell_information_clean[\"Dist.Met\"] = cell_information_clean[\"Dist.Met\"].cat.rename_categories(\n",
    "        {\"No Dist. Metastases\": 0, \"Dist. Metastases\": 1}\n",
    "    )\n",
    "    cell_information_clean[\"NeoAdj\"] = cell_information_clean[\"NeoAdj\"].cat.rename_categories(\n",
    "        {\"NoNeoAdjuvantTherapy\": 0, \"NeoAdjuvantTherapy\": 1}\n",
    "    )\n",
    "\n",
    "    # drop NaNs in target columns\n",
    "    cell_information_clean = cell_information_clean.dropna(subset=targets)\n",
    "\n",
    "    return adata, cell_information_clean"
   ]
  },
  {
   "cell_type": "code",
   "execution_count": null,
   "id": "6",
   "metadata": {},
   "outputs": [],
   "source": [
    "adata_path = \"../data/phenotype/nsclc/sce_all_annotated.h5ad\"\n",
    "target_names = [\"Relapse\", \"Ev.O\", \"LN.Met\"]\n",
    "\n",
    "adata, cell_information_clean = load_adata(adata_path, CANCER_TYPES[:3], target_names)"
   ]
  },
  {
   "cell_type": "code",
   "execution_count": null,
   "id": "7",
   "metadata": {},
   "outputs": [],
   "source": [
    "cell_information_clean"
   ]
  },
  {
   "cell_type": "code",
   "execution_count": null,
   "id": "8",
   "metadata": {},
   "outputs": [],
   "source": [
    "def separate_regions(adata, cell_information, targets):\n",
    "    # group regions by Tma_ac\n",
    "    grouped = cell_information.groupby(\"Tma_ac\", observed=True)\n",
    "\n",
    "    # get the biomarker names = proteins measured\n",
    "    biomarker_names = adata.var_names.values\n",
    "\n",
    "    # initialize the regions and targets dictionaries\n",
    "    # regions = {region_name: {\"cell_ids\": cell_ids, \"coordinates\": coordinates, \"cell_types\": cell_types, \"sizes\": sizes, \"biomarkers\": biomarkers}}\n",
    "    # targets = {target1: [target_value1, target_value2, ...], target2: [target_value1, target_value2, ...], ...}\n",
    "    regions = {}\n",
    "    targets = {target: [] for target in targets}\n",
    "\n",
    "    # iterate over the groups and extract the information for each region\n",
    "    for name, group in grouped:\n",
    "        cell_ids = group.index.values\n",
    "        coordinates = group[[\"Center_X\", \"Center_Y\"]].values\n",
    "        cell_types = group[\"cell_subtype\"].values\n",
    "        sizes = group[\"Area\"].values\n",
    "        biomarkers = adata[cell_ids].layers[\"c_counts_asinh_scaled\"].toarray()\n",
    "        for target in targets:\n",
    "            target_values = group[target]\n",
    "            unique_targets = target_values.unique()\n",
    "            assert len(unique_targets) == 1\n",
    "            targets[target].append(unique_targets[0])\n",
    "        regions[name] = {\n",
    "            \"cell_ids\": cell_ids,\n",
    "            \"coordinates\": coordinates,\n",
    "            \"cell_types\": cell_types,\n",
    "            \"sizes\": sizes,\n",
    "            \"biomarkers\": biomarkers,\n",
    "        }\n",
    "\n",
    "    return regions, targets, biomarker_names"
   ]
  },
  {
   "cell_type": "code",
   "execution_count": null,
   "id": "9",
   "metadata": {},
   "outputs": [],
   "source": [
    "regions, targets, biomarker_names = separate_regions(adata, cell_information_clean, target_names)"
   ]
  },
  {
   "cell_type": "code",
   "execution_count": null,
   "id": "10",
   "metadata": {},
   "outputs": [],
   "source": [
    "def train_valid_split(cell_information, target_columns, valid_fraction):\n",
    "    # concat all target columns to one string used for stratification\n",
    "    cell_information[\"stratify\"] = (\n",
    "        cell_information[target_columns].astype(str).agg(\"\".join, axis=1)\n",
    "    )\n",
    "\n",
    "    # split patients into train and valid sets using stratified sampling\n",
    "    patient_df = cell_information[[\"Patient_ID\", \"stratify\"]].drop_duplicates()\n",
    "    train_patients, valid_patients = train_test_split(\n",
    "        list(patient_df[\"Patient_ID\"]),\n",
    "        test_size=valid_fraction,\n",
    "        stratify=list(patient_df[\"stratify\"]),\n",
    "        random_state=44,\n",
    "    )\n",
    "\n",
    "    # get the regions for train and valid sets\n",
    "    train_regions = cell_information.loc[cell_information[\"Patient_ID\"].isin(train_patients)]\n",
    "    train_regions = list(train_regions[\"Tma_ac\"].unique())\n",
    "    valid_regions = cell_information.loc[cell_information[\"Patient_ID\"].isin(valid_patients)]\n",
    "    valid_regions = list(valid_regions[\"Tma_ac\"].unique())\n",
    "\n",
    "    return train_regions, valid_regions"
   ]
  },
  {
   "cell_type": "code",
   "execution_count": null,
   "id": "11",
   "metadata": {},
   "outputs": [],
   "source": [
    "valid_fraction = 0.2\n",
    "output_dir = \"../data/phenotype/regions\"\n",
    "\n",
    "train_regions, valid_regions = train_valid_split(\n",
    "    cell_information_clean, [\"Relapse\", \"Grade\"], valid_fraction\n",
    ")\n",
    "\n",
    "os.makedirs(output_dir, exist_ok=True)\n",
    "with open(os.path.join(output_dir, \"train_regions_grade.json\"), \"w\") as f:\n",
    "    json.dump(train_regions, f)\n",
    "with open(os.path.join(output_dir, \"valid_regions_grade.json\"), \"w\") as f:\n",
    "    json.dump(valid_regions, f)"
   ]
  },
  {
   "cell_type": "code",
   "execution_count": null,
   "id": "12",
   "metadata": {},
   "outputs": [],
   "source": [
    "def store_regions(regions, targets, biomarker_names, output_dir):\n",
    "    for name, region in tqdm(list(regions.items())):\n",
    "        os.makedirs(os.path.join(output_dir, name), exist_ok=True)\n",
    "        cell_ids = region[\"cell_ids\"]\n",
    "        # store cell coordinates as csv with cell_ids\n",
    "        cell_coords = region[\"coordinates\"]\n",
    "        cell_coords *= IMC_TO_CODEX_SCALE_FACTOR\n",
    "        coordinates_df = pd.DataFrame(cell_coords, columns=[\"X\", \"Y\"])\n",
    "        coordinates_df[\"CELL_ID\"] = cell_ids\n",
    "        coordinates_df.to_csv(os.path.join(output_dir, name, \"coordinates.csv\"), index=False)\n",
    "        # store cell types as csv with cell_ids\n",
    "        cell_types = region[\"cell_types\"]\n",
    "        cell_types_df = pd.DataFrame(cell_types, columns=[\"CELL_TYPE\"])\n",
    "        cell_types_df[\"CELL_ID\"] = cell_ids\n",
    "        cell_types_df.to_csv(os.path.join(output_dir, name, \"cell_types.csv\"), index=False)\n",
    "        # store cell sizes as csv with cell_ids\n",
    "        cell_sizes = region[\"sizes\"]\n",
    "        cell_sizes_df = pd.DataFrame(cell_sizes, columns=[\"SIZE\"])\n",
    "        cell_sizes_df[\"CELL_ID\"] = cell_ids\n",
    "        cell_sizes_df.to_csv(os.path.join(output_dir, name, \"cell_sizes.csv\"), index=False)\n",
    "        # store biomarker expression as csv with cell_ids\n",
    "        biomarkers = region[\"biomarkers\"]\n",
    "        biomarkers_df = pd.DataFrame(biomarkers, columns=biomarker_names)\n",
    "        biomarkers_df[\"CELL_ID\"] = cell_ids\n",
    "        biomarkers_df.to_csv(os.path.join(output_dir, name, \"expression.csv\"), index=False)\n",
    "    # store target values as csv, columns are target keys, rows are regions\n",
    "    targets_df = pd.DataFrame(targets)\n",
    "    targets_df.columns = [col.upper() for col in targets_df.columns]\n",
    "    targets_df[\"REGION_ID\"] = list(regions.keys())\n",
    "    targets_df.to_csv(os.path.join(output_dir, \"targets.csv\"), index=False)"
   ]
  },
  {
   "cell_type": "code",
   "execution_count": null,
   "id": "13",
   "metadata": {},
   "outputs": [],
   "source": [
    "store_regions(regions, targets, biomarker_names, output_dir)"
   ]
  },
  {
   "cell_type": "code",
   "execution_count": null,
   "id": "14",
   "metadata": {},
   "outputs": [],
   "source": []
  }
 ],
 "metadata": {
  "kernelspec": {
   "display_name": "augmentation",
   "language": "python",
   "name": "python3"
  },
  "language_info": {
   "codemirror_mode": {
    "name": "ipython",
    "version": 3
   },
   "file_extension": ".py",
   "mimetype": "text/x-python",
   "name": "python",
   "nbconvert_exporter": "python",
   "pygments_lexer": "ipython3",
   "version": "3.9.21"
  }
 },
 "nbformat": 4,
 "nbformat_minor": 5
}
