{
 "cells": [
  {
   "cell_type": "markdown",
   "id": "0",
   "metadata": {},
   "source": [
    "# Phenotype Data"
   ]
  },
  {
   "cell_type": "markdown",
   "id": "1",
   "metadata": {},
   "source": [
    "## Library Import"
   ]
  },
  {
   "cell_type": "code",
   "execution_count": null,
   "id": "2",
   "metadata": {},
   "outputs": [],
   "source": [
    "# import json\n",
    "# import os\n",
    "\n",
    "# import matplotlib.pyplot as plt\n",
    "# import numpy as np\n",
    "# import pandas as pd\n",
    "# import scanpy as sc\n",
    "# import seaborn as sns\n",
    "import torch\n",
    "\n",
    "# import torch_geometric\n",
    "from matplotlib import colors as mcolors"
   ]
  },
  {
   "cell_type": "code",
   "execution_count": null,
   "id": "3",
   "metadata": {},
   "outputs": [],
   "source": [
    "# import argparse\n",
    "import json\n",
    "import os\n",
    "\n",
    "import numpy as np\n",
    "import pandas as pd\n",
    "import scanpy as sc\n",
    "from sklearn.model_selection import train_test_split\n",
    "from tqdm import tqdm\n",
    "\n",
    "CANCER_TYPES = [\n",
    "    \"Adenocarcinoma\",\n",
    "    \"Squamous cell carcinoma\",\n",
    "    \"Adeno squamous cell carcinoma\",\n",
    "    \"Control\",\n",
    "    \"Large cell carcinoma\",\n",
    "    \"Large cell neuroendocrine carcinoma\",\n",
    "    \"NSCLC\",\n",
    "    \"Mesotheliom\",\n",
    "    \"Basaloides Ca\",\n",
    "    \"NA\",\n",
    "]\n",
    "\n",
    "TARGETS = [\n",
    "    \"Relapse\",\n",
    "    \"Ev.O\",\n",
    "    \"Grade\",\n",
    "    \"Stage\",\n",
    "    \"T.new\",\n",
    "    \"N\",\n",
    "    \"M.new\",\n",
    "    \"R\",\n",
    "    \"Chemo\",\n",
    "    \"Radio\",\n",
    "    \"DFS\",\n",
    "    \"OS\",\n",
    "    \"LN.Met\",\n",
    "    \"Dist.Met\",\n",
    "]\n",
    "\n",
    "IMC_TO_CODEX_SCALE_FACTOR = 2.75"
   ]
  },
  {
   "cell_type": "markdown",
   "id": "4",
   "metadata": {},
   "source": [
    "## Helper Functions"
   ]
  },
  {
   "cell_type": "markdown",
   "id": "5",
   "metadata": {},
   "source": [
    "## NSCLC Dataset"
   ]
  },
  {
   "cell_type": "code",
   "execution_count": null,
   "id": "6",
   "metadata": {},
   "outputs": [],
   "source": [
    "adata_raw = sc.read_h5ad(\"../data/phenotype/sce_all_annotated.h5ad\")\n",
    "adata_raw"
   ]
  },
  {
   "cell_type": "code",
   "execution_count": null,
   "id": "7",
   "metadata": {},
   "outputs": [],
   "source": [
    "def filter_for_cancer_types(cell_information, cancer_types):\n",
    "    assert set(cancer_types).issubset(set(CANCER_TYPES[:3]))\n",
    "    return cell_information.loc[cell_information[\"DX.name\"].isin(cancer_types)]\n",
    "\n",
    "\n",
    "def load_adata(adata_path, cancer_types, targets):\n",
    "    # load adata and cell information\n",
    "    adata = sc.read_h5ad(adata_path)\n",
    "    cell_information = adata.obs\n",
    "\n",
    "    # replace -2147483648 with NaN\n",
    "    cell_information_clean = cell_information.replace(-2147483648, np.nan)\n",
    "\n",
    "    # filter for cancer types\n",
    "    cell_information_clean = cell_information_clean.loc[\n",
    "        (cell_information_clean[\"DX.name\"] == \"Adenocarcinoma\")\n",
    "        | (cell_information_clean[\"DX.name\"] == \"Squamous cell carcinoma\")\n",
    "        | (cell_information_clean[\"DX.name\"] == \"Adeno squamous cell carcinoma\")\n",
    "    ]\n",
    "    cell_information_clean = filter_for_cancer_types(cell_information_clean, cancer_types)\n",
    "\n",
    "    # normalize area\n",
    "    cell_information_clean[\"Area\"] = cell_information_clean[\"Area\"] / cell_information_clean[\n",
    "        \"Area\"\n",
    "    ].quantile(0.95)\n",
    "\n",
    "    # lower cell category, type and subtype (e.g. \"T cell\" -> \"t cell\")\n",
    "    cell_information_clean[\"cell_category\"] = cell_information_clean[\"cell_category\"].str.lower()\n",
    "    cell_information_clean[\"cell_type\"] = cell_information_clean[\"cell_type\"].str.lower()\n",
    "    cell_information_clean[\"cell_subtype\"] = cell_information_clean[\"cell_subtype\"].str.lower()\n",
    "\n",
    "    # drop NaNs in cell category, type and subtype\n",
    "    cell_information_clean = cell_information_clean.dropna(\n",
    "        subset=[\"cell_category\", \"cell_type\", \"cell_subtype\"]\n",
    "    )\n",
    "\n",
    "    # convert LN.Met, Dist.Met, and NeoAdj to binary\n",
    "    cell_information_clean[\"LN.Met\"] = cell_information_clean[\"LN.Met\"].cat.rename_categories(\n",
    "        {\"No LN Metastases\": 0, \"LN Metastases\": 1}\n",
    "    )\n",
    "    cell_information_clean[\"Dist.Met\"] = cell_information_clean[\"Dist.Met\"].cat.rename_categories(\n",
    "        {\"No Dist. Metastases\": 0, \"Dist. Metastases\": 1}\n",
    "    )\n",
    "    cell_information_clean[\"NeoAdj\"] = cell_information_clean[\"NeoAdj\"].cat.rename_categories(\n",
    "        {\"NoNeoAdjuvantTherapy\": 0, \"NeoAdjuvantTherapy\": 1}\n",
    "    )\n",
    "\n",
    "    # drop NaNs in target columns\n",
    "    cell_information_clean = cell_information_clean.dropna(subset=targets)\n",
    "\n",
    "    return adata, cell_information_clean"
   ]
  },
  {
   "cell_type": "code",
   "execution_count": null,
   "id": "8",
   "metadata": {},
   "outputs": [],
   "source": [
    "adata_path = \"../data/phenotype/sce_all_annotated.h5ad\"\n",
    "target_names = [\"Relapse\", \"Ev.O\", \"LN.Met\"]\n",
    "\n",
    "adata, cell_information_clean = load_adata(adata_path, CANCER_TYPES[:3], target_names)"
   ]
  },
  {
   "cell_type": "code",
   "execution_count": null,
   "id": "9",
   "metadata": {},
   "outputs": [],
   "source": [
    "cell_information_clean"
   ]
  },
  {
   "cell_type": "code",
   "execution_count": null,
   "id": "10",
   "metadata": {},
   "outputs": [],
   "source": [
    "cell_information_clean[\"Tma_ac\"]"
   ]
  },
  {
   "cell_type": "code",
   "execution_count": null,
   "id": "11",
   "metadata": {},
   "outputs": [],
   "source": [
    "def separate_regions(adata, cell_information, targets):\n",
    "    # group regions by Tma_ac\n",
    "    grouped = cell_information.groupby(\"Tma_ac\", observed=True)\n",
    "\n",
    "    # get the biomarker names = proteins measured\n",
    "    biomarker_names = adata.var_names.values\n",
    "\n",
    "    # initialize the regions and targets dictionaries\n",
    "    # regions = {region_name: {\"cell_ids\": cell_ids, \"coordinates\": coordinates, \"cell_types\": cell_types, \"sizes\": sizes, \"biomarkers\": biomarkers}}\n",
    "    # targets = {target1: [target_value1, target_value2, ...], target2: [target_value1, target_value2, ...], ...}\n",
    "    regions = {}\n",
    "    targets = {target: [] for target in targets}\n",
    "\n",
    "    # iterate over the groups and extract the information for each region\n",
    "    for name, group in grouped:\n",
    "        cell_ids = group.index.values\n",
    "        coordinates = group[[\"Center_X\", \"Center_Y\"]].values\n",
    "        cell_types = group[\"cell_subtype\"].values\n",
    "        sizes = group[\"Area\"].values\n",
    "        biomarkers = adata[cell_ids].layers[\"c_counts_asinh_scaled\"].toarray()\n",
    "        for target in targets:\n",
    "            target_values = group[target]\n",
    "            unique_targets = target_values.unique()\n",
    "            assert len(unique_targets) == 1\n",
    "            targets[target].append(unique_targets[0])\n",
    "        regions[name] = {\n",
    "            \"cell_ids\": cell_ids,\n",
    "            \"coordinates\": coordinates,\n",
    "            \"cell_types\": cell_types,\n",
    "            \"sizes\": sizes,\n",
    "            \"biomarkers\": biomarkers,\n",
    "        }\n",
    "\n",
    "    return regions, targets, biomarker_names"
   ]
  },
  {
   "cell_type": "code",
   "execution_count": null,
   "id": "12",
   "metadata": {},
   "outputs": [],
   "source": [
    "regions, targets, biomarker_names = separate_regions(adata, cell_information_clean, target_names)"
   ]
  },
  {
   "cell_type": "code",
   "execution_count": null,
   "id": "13",
   "metadata": {},
   "outputs": [],
   "source": [
    "def train_valid_split(cell_information, target_columns, valid_fraction):\n",
    "    # concat all target columns to one string used for stratification\n",
    "    cell_information[\"stratify\"] = (\n",
    "        cell_information[target_columns].astype(str).agg(\"\".join, axis=1)\n",
    "    )\n",
    "\n",
    "    # split patients into train and valid sets using stratified sampling\n",
    "    patient_df = cell_information[[\"Patient_ID\", \"stratify\"]].drop_duplicates()\n",
    "    train_patients, valid_patients = train_test_split(\n",
    "        list(patient_df[\"Patient_ID\"]),\n",
    "        test_size=valid_fraction,\n",
    "        stratify=list(patient_df[\"stratify\"]),\n",
    "        random_state=44,\n",
    "    )\n",
    "\n",
    "    # get the regions for train and valid sets\n",
    "    train_regions = cell_information.loc[cell_information[\"Patient_ID\"].isin(train_patients)]\n",
    "    train_regions = list(train_regions[\"Tma_ac\"].unique())\n",
    "    valid_regions = cell_information.loc[cell_information[\"Patient_ID\"].isin(valid_patients)]\n",
    "    valid_regions = list(valid_regions[\"Tma_ac\"].unique())\n",
    "\n",
    "    return train_regions, valid_regions"
   ]
  },
  {
   "cell_type": "code",
   "execution_count": null,
   "id": "14",
   "metadata": {},
   "outputs": [],
   "source": [
    "valid_fraction = 0.2\n",
    "output_dir = \"../data/phenotype/regions\"\n",
    "\n",
    "train_regions, valid_regions = train_valid_split(\n",
    "    cell_information_clean, [\"Relapse\", \"Grade\"], valid_fraction\n",
    ")\n",
    "\n",
    "os.makedirs(output_dir, exist_ok=True)\n",
    "with open(os.path.join(output_dir, \"train_regions_grade.json\"), \"w\") as f:\n",
    "    json.dump(train_regions, f)\n",
    "with open(os.path.join(output_dir, \"valid_regions_grade.json\"), \"w\") as f:\n",
    "    json.dump(valid_regions, f)"
   ]
  },
  {
   "cell_type": "code",
   "execution_count": null,
   "id": "15",
   "metadata": {},
   "outputs": [],
   "source": [
    "def store_regions(regions, targets, biomarker_names, output_dir):\n",
    "    for name, region in tqdm(list(regions.items())):\n",
    "        os.makedirs(os.path.join(output_dir, name), exist_ok=True)\n",
    "        cell_ids = region[\"cell_ids\"]\n",
    "        # store cell coordinates as csv with cell_ids\n",
    "        cell_coords = region[\"coordinates\"]\n",
    "        cell_coords *= IMC_TO_CODEX_SCALE_FACTOR\n",
    "        coordinates_df = pd.DataFrame(cell_coords, columns=[\"X\", \"Y\"])\n",
    "        coordinates_df[\"CELL_ID\"] = cell_ids\n",
    "        coordinates_df.to_csv(os.path.join(output_dir, name, \"coordinates.csv\"), index=False)\n",
    "        # store cell types as csv with cell_ids\n",
    "        cell_types = region[\"cell_types\"]\n",
    "        cell_types_df = pd.DataFrame(cell_types, columns=[\"CELL_TYPE\"])\n",
    "        cell_types_df[\"CELL_ID\"] = cell_ids\n",
    "        cell_types_df.to_csv(os.path.join(output_dir, name, \"cell_types.csv\"), index=False)\n",
    "        # store cell sizes as csv with cell_ids\n",
    "        cell_sizes = region[\"sizes\"]\n",
    "        cell_sizes_df = pd.DataFrame(cell_sizes, columns=[\"SIZE\"])\n",
    "        cell_sizes_df[\"CELL_ID\"] = cell_ids\n",
    "        cell_sizes_df.to_csv(os.path.join(output_dir, name, \"cell_sizes.csv\"), index=False)\n",
    "        # store biomarker expression as csv with cell_ids\n",
    "        biomarkers = region[\"biomarkers\"]\n",
    "        biomarkers_df = pd.DataFrame(biomarkers, columns=biomarker_names)\n",
    "        biomarkers_df[\"CELL_ID\"] = cell_ids\n",
    "        biomarkers_df.to_csv(os.path.join(output_dir, name, \"expression.csv\"), index=False)\n",
    "    # store target values as csv, columns are target keys, rows are regions\n",
    "    targets_df = pd.DataFrame(targets)\n",
    "    targets_df.columns = [col.upper() for col in targets_df.columns]\n",
    "    targets_df[\"REGION_ID\"] = list(regions.keys())\n",
    "    targets_df.to_csv(os.path.join(output_dir, \"targets.csv\"), index=False)"
   ]
  },
  {
   "cell_type": "code",
   "execution_count": null,
   "id": "16",
   "metadata": {},
   "outputs": [],
   "source": [
    "store_regions(regions, targets, biomarker_names, output_dir)"
   ]
  },
  {
   "cell_type": "markdown",
   "id": "17",
   "metadata": {},
   "source": [
    "## Graphs"
   ]
  },
  {
   "cell_type": "code",
   "execution_count": null,
   "id": "18",
   "metadata": {},
   "outputs": [],
   "source": [
    "example_graph = torch.load(\"../data/phenotype/raw/175A_119.0.gpt\", weights_only=False)\n",
    "example_graph"
   ]
  },
  {
   "cell_type": "code",
   "execution_count": null,
   "id": "19",
   "metadata": {},
   "outputs": [],
   "source": [
    "example_graph.edge_attr[:, 1].unique()"
   ]
  },
  {
   "cell_type": "code",
   "execution_count": null,
   "id": "20",
   "metadata": {},
   "outputs": [],
   "source": [
    "cell_types = example_graph.x[:, 0].long()"
   ]
  },
  {
   "cell_type": "code",
   "execution_count": null,
   "id": "21",
   "metadata": {},
   "outputs": [],
   "source": [
    "targets_path = os.path.join(\"../data/phenotype/raw\", \"targets.csv\")\n",
    "if not os.path.exists(targets_path):\n",
    "    raise FileNotFoundError(f\"File {targets_path} does not exist. Please provide the targets.\")\n",
    "targets = pd.read_csv(targets_path)"
   ]
  },
  {
   "cell_type": "code",
   "execution_count": null,
   "id": "22",
   "metadata": {},
   "outputs": [],
   "source": [
    "targets.loc[targets[\"REGION_ID\"] == \"175A_119\"]"
   ]
  },
  {
   "cell_type": "code",
   "execution_count": null,
   "id": "23",
   "metadata": {},
   "outputs": [],
   "source": [
    "graph_tasks = [\"RELAPSE\", \"EV.O\", \"LN.MET\"]\n",
    "\n",
    "# append the targets to the graph\n",
    "example_graph.y = torch.zeros((len(graph_tasks)), dtype=torch.float32)\n",
    "for i, task in enumerate(graph_tasks):\n",
    "    if task not in targets.columns:\n",
    "        raise ValueError(f\"Task {task} not found in targets.\")\n",
    "    example_graph.y[i] = torch.tensor(\n",
    "        targets.loc[targets[\"REGION_ID\"] == example_graph.region_id, task].values\n",
    "    )\n",
    "    example_graph.y[i] = example_graph.y[i].to(torch.float32)"
   ]
  },
  {
   "cell_type": "code",
   "execution_count": null,
   "id": "24",
   "metadata": {},
   "outputs": [],
   "source": [
    "example_graph.y"
   ]
  },
  {
   "cell_type": "code",
   "execution_count": null,
   "id": "25",
   "metadata": {},
   "outputs": [],
   "source": [
    "json_path = \"../data/phenotype/json_files\"\n",
    "\n",
    "ct_mapping_path = os.path.join(json_path, \"cell_type_mapping.json\")\n",
    "ct_freq_path = os.path.join(json_path, \"cell_type_freq.json\")\n",
    "biomarkers_path = os.path.join(json_path, \"biomarkers.json\")\n",
    "with open(ct_mapping_path, \"r\") as f:\n",
    "    cell_type_mapping = json.load(f)\n",
    "with open(ct_freq_path, \"r\") as f:\n",
    "    cell_type_freq = json.load(f)\n",
    "with open(biomarkers_path, \"r\") as f:\n",
    "    biormarkers = json.load(f)"
   ]
  },
  {
   "cell_type": "code",
   "execution_count": null,
   "id": "26",
   "metadata": {},
   "outputs": [],
   "source": [
    "cell_type_freq"
   ]
  },
  {
   "cell_type": "code",
   "execution_count": null,
   "id": "27",
   "metadata": {},
   "outputs": [],
   "source": [
    "cell_type_mapping"
   ]
  },
  {
   "cell_type": "code",
   "execution_count": null,
   "id": "28",
   "metadata": {},
   "outputs": [],
   "source": [
    "biormarkers"
   ]
  },
  {
   "cell_type": "markdown",
   "id": "29",
   "metadata": {},
   "source": [
    "## Testing Code"
   ]
  },
  {
   "cell_type": "code",
   "execution_count": null,
   "id": "30",
   "metadata": {},
   "outputs": [],
   "source": [
    "import copy\n",
    "import os\n",
    "\n",
    "import rootutils\n",
    "import torch\n",
    "from torch_geometric.data import Batch, Data\n",
    "\n",
    "rootutils.setup_root(os.getcwd(), indicator=\".project-root\", pythonpath=True)\n",
    "\n",
    "from src.data.cellular_graph_datamodule import (\n",
    "    CellularGraphDataModule,\n",
    "    CellularGraphDataset,\n",
    ")"
   ]
  },
  {
   "cell_type": "code",
   "execution_count": null,
   "id": "31",
   "metadata": {},
   "outputs": [],
   "source": [
    "mode = \"finetuning\"\n",
    "data_dir = \"../data/phenotype/nsclc/raw\"\n",
    "processed_dir = \"../data/phenotype/nsclc/processed\"\n",
    "batch_size = 64\n",
    "num_workers = 4\n",
    "pin_memory = False\n",
    "json_path = \"../data/phenotype/nsclc/json_files\"\n",
    "subgraph_size = 3\n",
    "num_iterations = 50000\n",
    "node_features = [\n",
    "    \"cell_type\",\n",
    "    \"size\",\n",
    "    \"biomarker_expression\",\n",
    "    \"neighborhood_composition\",\n",
    "    \"center_coord\",\n",
    "]\n",
    "edge_features = [\"edge_type\", \"distance\"]\n",
    "node_features_to_use = [\"cell_type\", \"size\"]\n",
    "edge_features_to_use = [\"edge_type\"]\n",
    "sampling_avoid_unassigned = True\n",
    "unassigned_cell_type = \"Unassigned\"\n",
    "graph_tasks = [\"RELAPSE\"]\n",
    "redo_preprocess = False\n",
    "seed = 44"
   ]
  },
  {
   "cell_type": "code",
   "execution_count": null,
   "id": "32",
   "metadata": {},
   "outputs": [],
   "source": [
    "data_module = CellularGraphDataModule(\n",
    "    mode=mode,\n",
    "    data_dir=data_dir,\n",
    "    processed_dir=processed_dir,\n",
    "    batch_size=batch_size,\n",
    "    num_workers=num_workers,\n",
    "    pin_memory=pin_memory,\n",
    "    json_path=json_path,\n",
    "    subgraph_size=subgraph_size,\n",
    "    num_iterations=num_iterations,\n",
    "    node_features=node_features,\n",
    "    edge_features=edge_features,\n",
    "    node_features_to_use=node_features_to_use,\n",
    "    edge_features_to_use=edge_features_to_use,\n",
    "    sampling_avoid_unassigned=sampling_avoid_unassigned,\n",
    "    unassigned_cell_type=unassigned_cell_type,\n",
    "    graph_tasks=graph_tasks,\n",
    "    redo_preprocess=redo_preprocess,\n",
    "    seed=seed,\n",
    ")"
   ]
  },
  {
   "cell_type": "code",
   "execution_count": null,
   "id": "33",
   "metadata": {},
   "outputs": [],
   "source": [
    "data_module"
   ]
  },
  {
   "cell_type": "code",
   "execution_count": null,
   "id": "34",
   "metadata": {},
   "outputs": [],
   "source": [
    "data_module.prepare_data()"
   ]
  },
  {
   "cell_type": "code",
   "execution_count": null,
   "id": "35",
   "metadata": {},
   "outputs": [],
   "source": [
    "data_module.setup()"
   ]
  },
  {
   "cell_type": "code",
   "execution_count": null,
   "id": "36",
   "metadata": {},
   "outputs": [],
   "source": [
    "train_loader = data_module.train_dataloader()\n",
    "val_loader = data_module.val_dataloader()\n",
    "test_loader = data_module.test_dataloader()\n",
    "trainset = train_loader.dataset\n",
    "valset = val_loader.dataset\n",
    "testset = test_loader.dataset"
   ]
  },
  {
   "cell_type": "code",
   "execution_count": null,
   "id": "37",
   "metadata": {},
   "outputs": [],
   "source": [
    "from torchmetrics.classification import (\n",
    "    BinaryAccuracy,\n",
    "    BinaryAUROC,\n",
    "    BinaryConfusionMatrix,\n",
    "    BinaryF1Score,\n",
    "    BinaryPrecision,\n",
    "    BinaryRecall,\n",
    ")\n",
    "\n",
    "from src.models.bgrl_phenotype_module import BGRLPhenotypeLitModule\n",
    "from src.models.components.bgrl import BGRL\n",
    "from src.models.components.bgrl_projector import BGRLProjector\n",
    "from src.models.components.gnn import GNN, GNN_pred"
   ]
  },
  {
   "cell_type": "code",
   "execution_count": null,
   "id": "38",
   "metadata": {},
   "outputs": [],
   "source": [
    "gnn = GNN(\n",
    "    num_layer=3,\n",
    "    num_node_type=30,\n",
    "    num_feat=76,\n",
    "    emb_dim=256,\n",
    ")"
   ]
  },
  {
   "cell_type": "code",
   "execution_count": null,
   "id": "39",
   "metadata": {},
   "outputs": [],
   "source": [
    "gnn_pred = GNN_pred(\n",
    "    num_layer=3,\n",
    "    num_node_type=30,\n",
    "    num_feat=76,\n",
    "    emb_dim=256,\n",
    ")"
   ]
  },
  {
   "cell_type": "code",
   "execution_count": null,
   "id": "40",
   "metadata": {},
   "outputs": [],
   "source": [
    "projector = BGRLProjector(\n",
    "    input_size=256,\n",
    "    output_size=256,\n",
    "    hidden_size=512,\n",
    ")"
   ]
  },
  {
   "cell_type": "code",
   "execution_count": null,
   "id": "41",
   "metadata": {},
   "outputs": [],
   "source": [
    "bgrl = BGRL(\n",
    "    encoder=gnn,\n",
    "    projector=projector,\n",
    ")"
   ]
  },
  {
   "cell_type": "code",
   "execution_count": null,
   "id": "42",
   "metadata": {},
   "outputs": [],
   "source": [
    "val_outputs = []\n",
    "iterator = iter(test_loader)\n",
    "for i in range(10):\n",
    "    data = next(iterator)\n",
    "\n",
    "    region_id = data.region_id[0][0]\n",
    "\n",
    "    # run online encoder to get predictions for graph\n",
    "    # prediction for graph is the mean of all subgraphs\n",
    "    with torch.no_grad():\n",
    "        res = gnn_pred(data)\n",
    "    y_pred = res[0].flatten().mean()\n",
    "\n",
    "    # get ground truth labels (graph level, same for all subgraphs)\n",
    "    y_true = data.y[0]\n",
    "\n",
    "    val_outputs.append(\n",
    "        {\n",
    "            \"y_pred\": y_pred,\n",
    "            \"y_true\": y_true,\n",
    "            \"region_id\": region_id,\n",
    "        }\n",
    "    )\n",
    "\n",
    "val_outputs"
   ]
  },
  {
   "cell_type": "code",
   "execution_count": null,
   "id": "43",
   "metadata": {},
   "outputs": [],
   "source": [
    "y_preds = torch.tensor([d[\"y_pred\"] for d in val_outputs], dtype=torch.float)\n",
    "y_trues = torch.tensor([d[\"y_true\"] for d in val_outputs], dtype=torch.float)"
   ]
  },
  {
   "cell_type": "code",
   "execution_count": null,
   "id": "44",
   "metadata": {},
   "outputs": [],
   "source": [
    "logits = y_preds\n",
    "labels = y_trues\n",
    "\n",
    "probs = torch.sigmoid(logits)\n",
    "preds = (probs >= 0.5).int()\n",
    "\n",
    "# compute metrics\n",
    "metrics = {\n",
    "    \"auroc\": BinaryAUROC()(probs, labels).item(),\n",
    "    \"accuracy\": BinaryAccuracy()(preds, labels).item(),\n",
    "    \"f1\": BinaryF1Score()(preds, labels).item(),\n",
    "    \"precision\": BinaryPrecision()(preds, labels).item(),\n",
    "    \"recall\": BinaryRecall()(preds, labels).item(),\n",
    "}\n",
    "\n",
    "# compute balanced accuracy\n",
    "cm = BinaryConfusionMatrix()(preds, labels)\n",
    "tn, fp, fn, tp = cm.flatten()\n",
    "sensitivity = tp / (tp + fn + 1e-8)\n",
    "specificity = tn / (tn + fp + 1e-8)\n",
    "metrics[\"balanced_accuracy\"] = ((sensitivity + specificity) / 2).item()"
   ]
  },
  {
   "cell_type": "code",
   "execution_count": null,
   "id": "45",
   "metadata": {},
   "outputs": [],
   "source": [
    "metrics"
   ]
  }
 ],
 "metadata": {
  "kernelspec": {
   "display_name": "augmentation",
   "language": "python",
   "name": "python3"
  },
  "language_info": {
   "codemirror_mode": {
    "name": "ipython",
    "version": 3
   },
   "file_extension": ".py",
   "mimetype": "text/x-python",
   "name": "python",
   "nbconvert_exporter": "python",
   "pygments_lexer": "ipython3",
   "version": "3.9.21"
  }
 },
 "nbformat": 4,
 "nbformat_minor": 5
}
