{
 "cells": [
  {
   "cell_type": "markdown",
   "id": "0",
   "metadata": {},
   "source": [
    "# Domain Data"
   ]
  },
  {
   "cell_type": "markdown",
   "id": "1",
   "metadata": {},
   "source": [
    "## Library Import"
   ]
  },
  {
   "cell_type": "code",
   "execution_count": null,
   "id": "2",
   "metadata": {},
   "outputs": [],
   "source": [
    "import os\n",
    "\n",
    "import matplotlib.pyplot as plt\n",
    "import pandas as pd\n",
    "import scanpy as sc\n",
    "import seaborn as sns"
   ]
  },
  {
   "cell_type": "markdown",
   "id": "3",
   "metadata": {},
   "source": [
    "## Helper Functions"
   ]
  },
  {
   "cell_type": "code",
   "execution_count": null,
   "id": "4",
   "metadata": {},
   "outputs": [],
   "source": [
    "def get_files(data_dir, prefix):\n",
    "    return [os.path.join(data_dir, f) for f in os.listdir(data_dir) if f.startswith(prefix)]"
   ]
  },
  {
   "cell_type": "code",
   "execution_count": null,
   "id": "5",
   "metadata": {},
   "outputs": [],
   "source": [
    "def create_sample_df(files, domain_label, dataset):\n",
    "    df = pd.DataFrame(\n",
    "        columns=[\"Sample\", \"Dataset\", \"Num_genes\", \"Num_cells\", \"Domain_label\", \"Has_spatial\"]\n",
    "    )\n",
    "\n",
    "    for file in files:\n",
    "        adata = sc.read_h5ad(file)\n",
    "\n",
    "        sample = os.path.basename(file).split(\".h5ad\")[0]\n",
    "        num_genes = adata.shape[1]\n",
    "        num_cells = adata.shape[0]\n",
    "        domain_label = domain_label\n",
    "\n",
    "        if \"spatial\" in adata.obsm:\n",
    "            has_spatial = True\n",
    "        else:\n",
    "            has_spatial = False\n",
    "\n",
    "        new_row = pd.DataFrame(\n",
    "            [\n",
    "                {\n",
    "                    \"Sample\": sample,\n",
    "                    \"Dataset\": dataset,\n",
    "                    \"Num_genes\": num_genes,\n",
    "                    \"Num_cells\": num_cells,\n",
    "                    \"Domain_label\": domain_label,\n",
    "                    \"Has_spatial\": has_spatial,\n",
    "                }\n",
    "            ]\n",
    "        )\n",
    "\n",
    "        df = pd.concat([df, new_row], ignore_index=True)\n",
    "\n",
    "    df[\"Num_genes\"] = pd.to_numeric(df[\"Num_genes\"], errors=\"coerce\")\n",
    "    df[\"Num_cells\"] = pd.to_numeric(df[\"Num_cells\"], errors=\"coerce\")\n",
    "\n",
    "    return df"
   ]
  },
  {
   "cell_type": "code",
   "execution_count": null,
   "id": "6",
   "metadata": {},
   "outputs": [],
   "source": [
    "def plot_statistics(df):\n",
    "    sns.set(style=\"whitegrid\")\n",
    "    fig, axes = plt.subplots(1, 2, figsize=(12, 6), sharey=False)\n",
    "\n",
    "    sns.barplot(\n",
    "        data=df,\n",
    "        x=\"Sample\",\n",
    "        hue=\"Sample\",\n",
    "        y=\"Num_genes\",\n",
    "        ax=axes[0],\n",
    "        palette=\"Blues_d\",\n",
    "        legend=False,\n",
    "    )\n",
    "    axes[0].set_title(\"Number of Genes per Sample\", fontsize=14)\n",
    "    axes[0].set_xlabel(\"Sample\", fontsize=12)\n",
    "    axes[0].set_ylabel(\"Number of Genes\", fontsize=12)\n",
    "    axes[0].tick_params(axis=\"x\", labelsize=8)\n",
    "\n",
    "    sns.barplot(\n",
    "        data=df,\n",
    "        x=\"Sample\",\n",
    "        hue=\"Sample\",\n",
    "        y=\"Num_cells\",\n",
    "        ax=axes[1],\n",
    "        palette=\"Greens_d\",\n",
    "        legend=False,\n",
    "    )\n",
    "    axes[1].set_title(\"Number of Cells per Sample\", fontsize=14)\n",
    "    axes[1].set_xlabel(\"Sample\", fontsize=12)\n",
    "    axes[1].set_ylabel(\"Number of Cells\", fontsize=12)\n",
    "    axes[1].tick_params(axis=\"x\", labelsize=8)\n",
    "\n",
    "    plt.tight_layout()\n",
    "    plt.show()"
   ]
  },
  {
   "cell_type": "code",
   "execution_count": null,
   "id": "7",
   "metadata": {},
   "outputs": [],
   "source": [
    "def plot_merfish_zhuang(adata, color_key):\n",
    "    fig, ax = plt.subplots(figsize=(6, 6))\n",
    "    sc.pl.embedding(adata, basis=\"spatial\", color=color_key, size=30, ax=ax, show=False)\n",
    "\n",
    "    ax.set_ylim(11, 0)\n",
    "    ax.set_xlim(0, 11)\n",
    "    ax.axis(\"equal\")\n",
    "    ax.set_xticks([])\n",
    "    ax.set_yticks([])\n",
    "    ax.set_title(\"Single Section Plot\")\n",
    "\n",
    "    # Show the plot\n",
    "    plt.show()"
   ]
  },
  {
   "cell_type": "markdown",
   "id": "8",
   "metadata": {},
   "source": [
    "## Dataset 1 - MERFISH small"
   ]
  },
  {
   "cell_type": "code",
   "execution_count": null,
   "id": "9",
   "metadata": {},
   "outputs": [],
   "source": [
    "files = get_files(\"../data/domain/raw_123\", \"MERFISH_small\")\n",
    "files = sorted(files, key=lambda x: int(os.path.basename(x).split(\"small\")[1].split(\".\")[0]))\n",
    "print(files)"
   ]
  },
  {
   "cell_type": "code",
   "execution_count": null,
   "id": "10",
   "metadata": {},
   "outputs": [],
   "source": [
    "df_mf = create_sample_df(files, \"domain\", \"MERFISH_small\")\n",
    "df_mf"
   ]
  },
  {
   "cell_type": "code",
   "execution_count": null,
   "id": "11",
   "metadata": {},
   "outputs": [],
   "source": [
    "plot_statistics(df_mf)"
   ]
  },
  {
   "cell_type": "code",
   "execution_count": null,
   "id": "12",
   "metadata": {},
   "outputs": [],
   "source": [
    "adata = sc.read_h5ad(files[0])\n",
    "domain_label = df_mf[\"Domain_label\"][0]\n",
    "title = df_mf[\"Sample\"][0]\n",
    "sc.pl.embedding(adata, basis=\"spatial\", color=domain_label, size=40, title=title)"
   ]
  },
  {
   "cell_type": "markdown",
   "id": "13",
   "metadata": {},
   "source": [
    "## Dataset 2 - STARmap"
   ]
  },
  {
   "cell_type": "code",
   "execution_count": null,
   "id": "14",
   "metadata": {},
   "outputs": [],
   "source": [
    "files = get_files(\"../data/domain/raw_123\", \"STARmap\")\n",
    "files = sorted(files, key=lambda x: int(os.path.basename(x).split(\"STARmap\")[1].split(\".\")[0]))\n",
    "print(files)"
   ]
  },
  {
   "cell_type": "code",
   "execution_count": null,
   "id": "15",
   "metadata": {},
   "outputs": [],
   "source": [
    "df_sm = create_sample_df(files, \"region\", \"STARmap\")\n",
    "df_sm"
   ]
  },
  {
   "cell_type": "code",
   "execution_count": null,
   "id": "16",
   "metadata": {},
   "outputs": [],
   "source": [
    "plot_statistics(df_sm)"
   ]
  },
  {
   "cell_type": "code",
   "execution_count": null,
   "id": "17",
   "metadata": {},
   "outputs": [],
   "source": [
    "adata = sc.read_h5ad(files[0])\n",
    "domain_label = df_sm[\"Domain_label\"][0]\n",
    "title = df_sm[\"Sample\"][0]\n",
    "sc.pl.embedding(adata, basis=\"spatial\", color=domain_label, size=100, title=title)"
   ]
  },
  {
   "cell_type": "markdown",
   "id": "18",
   "metadata": {},
   "source": [
    "## Dataset 3 - BaristaSeq"
   ]
  },
  {
   "cell_type": "code",
   "execution_count": null,
   "id": "19",
   "metadata": {},
   "outputs": [],
   "source": [
    "files = get_files(\"../data/domain/raw_123\", \"BaristaSeq\")\n",
    "files = sorted(files, key=lambda x: int(os.path.basename(x).split(\"BaristaSeq\")[1].split(\".\")[0]))\n",
    "print(files)"
   ]
  },
  {
   "cell_type": "code",
   "execution_count": null,
   "id": "20",
   "metadata": {},
   "outputs": [],
   "source": [
    "df_bs = create_sample_df(files, \"layer\", \"BaristaSeq\")\n",
    "df_bs"
   ]
  },
  {
   "cell_type": "code",
   "execution_count": null,
   "id": "21",
   "metadata": {},
   "outputs": [],
   "source": [
    "plot_statistics(df_bs)"
   ]
  },
  {
   "cell_type": "code",
   "execution_count": null,
   "id": "22",
   "metadata": {},
   "outputs": [],
   "source": [
    "adata = sc.read_h5ad(files[0])\n",
    "domain_label = df_bs[\"Domain_label\"][0]\n",
    "title = df_bs[\"Sample\"][0]\n",
    "sc.pl.embedding(adata, basis=\"spatial\", color=domain_label, size=60, title=title)"
   ]
  },
  {
   "cell_type": "markdown",
   "id": "23",
   "metadata": {},
   "source": [
    "## Dataset 7.1 - MERFISH Zhuang 1"
   ]
  },
  {
   "cell_type": "code",
   "execution_count": null,
   "id": "24",
   "metadata": {},
   "outputs": [],
   "source": [
    "files = get_files(\"../data/domain/raw_7\", \"Zhuang-ABCA-1\")\n",
    "files = sorted(\n",
    "    files, key=lambda x: int(os.path.basename(x).split(\"Zhuang-ABCA-1.\")[1].split(\".\")[0])\n",
    ")\n",
    "print(files[0:4])\n",
    "print(len(files))"
   ]
  },
  {
   "cell_type": "code",
   "execution_count": null,
   "id": "25",
   "metadata": {},
   "outputs": [],
   "source": [
    "df_z1 = create_sample_df(files, \"parcellation_division\", \"MERFISH_zhuang_1\")\n",
    "df_z1"
   ]
  },
  {
   "cell_type": "code",
   "execution_count": null,
   "id": "26",
   "metadata": {},
   "outputs": [],
   "source": [
    "df_z1.describe()"
   ]
  },
  {
   "cell_type": "code",
   "execution_count": null,
   "id": "27",
   "metadata": {},
   "outputs": [],
   "source": [
    "adata = sc.read_h5ad(\"../data/domain/raw_7/Zhuang-ABCA-1.079.h5ad\")\n",
    "color_key = df_z1[\"Domain_label\"][0]  # Key in adata.obs for coloring\n",
    "\n",
    "plot_merfish_zhuang(adata, color_key)"
   ]
  },
  {
   "cell_type": "markdown",
   "id": "28",
   "metadata": {},
   "source": [
    "## Dataset 7.2 - MERFISH Zhuang 2"
   ]
  },
  {
   "cell_type": "code",
   "execution_count": null,
   "id": "29",
   "metadata": {},
   "outputs": [],
   "source": [
    "files = get_files(\"../data/domain/raw_7\", \"Zhuang-ABCA-2\")\n",
    "files = sorted(\n",
    "    files, key=lambda x: int(os.path.basename(x).split(\"Zhuang-ABCA-2.\")[1].split(\".\")[0])\n",
    ")\n",
    "print(files[0:4])\n",
    "print(len(files))"
   ]
  },
  {
   "cell_type": "code",
   "execution_count": null,
   "id": "30",
   "metadata": {},
   "outputs": [],
   "source": [
    "df_z2 = create_sample_df(files, \"parcellation_division\", \"MERFISH_zhuang_2\")\n",
    "df_z2.head(10)"
   ]
  },
  {
   "cell_type": "code",
   "execution_count": null,
   "id": "31",
   "metadata": {},
   "outputs": [],
   "source": [
    "df_z2.describe()"
   ]
  },
  {
   "cell_type": "code",
   "execution_count": null,
   "id": "32",
   "metadata": {},
   "outputs": [],
   "source": [
    "adata = sc.read_h5ad(\"../data/domain/raw_7/Zhuang-ABCA-2.037.h5ad\")\n",
    "color_key = df_z2[\"Domain_label\"][0]  # Key in adata.obs for coloring\n",
    "\n",
    "plot_merfish_zhuang(adata, color_key)"
   ]
  },
  {
   "cell_type": "markdown",
   "id": "33",
   "metadata": {},
   "source": [
    "## Dataset 7.3 - MERFISH Zhuang 3"
   ]
  },
  {
   "cell_type": "code",
   "execution_count": null,
   "id": "34",
   "metadata": {},
   "outputs": [],
   "source": [
    "files = get_files(\"../data/domain/raw_7\", \"Zhuang-ABCA-3\")\n",
    "files = sorted(\n",
    "    files, key=lambda x: int(os.path.basename(x).split(\"Zhuang-ABCA-3.\")[1].split(\".\")[0])\n",
    ")\n",
    "print(files[0:4])\n",
    "print(len(files))"
   ]
  },
  {
   "cell_type": "code",
   "execution_count": null,
   "id": "35",
   "metadata": {},
   "outputs": [],
   "source": [
    "df_z3 = create_sample_df(files, \"parcellation_division\", \"MERFISH_zhuang_3\")\n",
    "df_z3.head(10)"
   ]
  },
  {
   "cell_type": "code",
   "execution_count": null,
   "id": "36",
   "metadata": {},
   "outputs": [],
   "source": [
    "df_z3.describe()"
   ]
  },
  {
   "cell_type": "code",
   "execution_count": null,
   "id": "37",
   "metadata": {},
   "outputs": [],
   "source": [
    "adata = sc.read_h5ad(\"../data/domain/raw_7/Zhuang-ABCA-3.010.h5ad\")\n",
    "color_key = df_z3[\"Domain_label\"][0]  # Key in adata.obs for coloring\n",
    "\n",
    "plot_merfish_zhuang(adata, color_key)"
   ]
  },
  {
   "cell_type": "markdown",
   "id": "38",
   "metadata": {},
   "source": [
    "## Dataset 7.4 - MERFISH Zhuang 4"
   ]
  },
  {
   "cell_type": "code",
   "execution_count": null,
   "id": "39",
   "metadata": {},
   "outputs": [],
   "source": [
    "files = get_files(\"../data/domain/raw_7\", \"Zhuang-ABCA-4\")\n",
    "files = sorted(\n",
    "    files, key=lambda x: int(os.path.basename(x).split(\"Zhuang-ABCA-4.\")[1].split(\".\")[0])\n",
    ")\n",
    "print(files)"
   ]
  },
  {
   "cell_type": "code",
   "execution_count": null,
   "id": "40",
   "metadata": {},
   "outputs": [],
   "source": [
    "df_z4 = create_sample_df(files, \"parcellation_division\", \"MERFISH_zhuang_4\")\n",
    "df_z4"
   ]
  },
  {
   "cell_type": "code",
   "execution_count": null,
   "id": "41",
   "metadata": {},
   "outputs": [],
   "source": [
    "adata = sc.read_h5ad(\"../data/domain/raw_7/Zhuang-ABCA-4.002.h5ad\")\n",
    "color_key = df_z4[\"Domain_label\"][0]  # Key in adata.obs for coloring\n",
    "\n",
    "plot_merfish_zhuang(adata, color_key)"
   ]
  },
  {
   "cell_type": "markdown",
   "id": "42",
   "metadata": {},
   "source": [
    "## All Datasets"
   ]
  },
  {
   "cell_type": "code",
   "execution_count": null,
   "id": "43",
   "metadata": {},
   "outputs": [],
   "source": [
    "df = pd.concat([df_mf, df_sm, df_bs, df_z1, df_z2, df_z3, df_z4], ignore_index=True)\n",
    "df"
   ]
  },
  {
   "cell_type": "code",
   "execution_count": null,
   "id": "44",
   "metadata": {},
   "outputs": [],
   "source": [
    "new_order = [\n",
    "    \"MERFISH_small\",\n",
    "    \"STARmap\",\n",
    "    \"BaristaSeq\",\n",
    "    \"MERFISH_zhuang_1\",\n",
    "    \"MERFISH_zhuang_2\",\n",
    "    \"MERFISH_zhuang_3\",\n",
    "    \"MERFISH_zhuang_4\",\n",
    "]\n",
    "dataset_counts = df[\"Dataset\"].value_counts().reset_index()\n",
    "dataset_counts = dataset_counts.set_index(\"Dataset\").reindex(new_order).reset_index()\n",
    "\n",
    "\n",
    "sns.set(style=\"whitegrid\")\n",
    "\n",
    "plt.figure(figsize=(12, 6))\n",
    "sns.barplot(\n",
    "    x=\"Dataset\", y=\"count\", data=dataset_counts, hue=\"Dataset\", palette=\"Blues_d\", legend=False\n",
    ")\n",
    "\n",
    "plt.xlabel(\"Dataset\")\n",
    "plt.ylabel(\"Number of Samples\")\n",
    "plt.title(\"Barplot of Number of Samples per Dataset\", fontsize=14)\n",
    "plt.tick_params(axis=\"x\", labelsize=9)\n",
    "\n",
    "plt.show()"
   ]
  },
  {
   "cell_type": "code",
   "execution_count": null,
   "id": "45",
   "metadata": {},
   "outputs": [],
   "source": [
    "sns.set(style=\"whitegrid\")\n",
    "\n",
    "plt.figure(figsize=(12, 6))\n",
    "sns.boxplot(x=\"Dataset\", y=\"Num_genes\", data=df, hue=\"Dataset\", palette=\"Blues_d\", legend=False)\n",
    "sns.stripplot(x=\"Dataset\", y=\"Num_genes\", data=df, color=\"black\", size=5, jitter=True)\n",
    "\n",
    "plt.xlabel(\"Dataset\")\n",
    "plt.ylabel(\"Number of Genes\")\n",
    "plt.title(\"Boxplot of Number of Genes per Sample by Dataset\", fontsize=14)\n",
    "plt.tick_params(axis=\"x\", labelsize=9)\n",
    "\n",
    "plt.show()"
   ]
  },
  {
   "cell_type": "code",
   "execution_count": null,
   "id": "46",
   "metadata": {},
   "outputs": [],
   "source": [
    "sns.set(style=\"whitegrid\")\n",
    "\n",
    "plt.figure(figsize=(12, 6))\n",
    "sns.boxplot(x=\"Dataset\", y=\"Num_cells\", data=df, hue=\"Dataset\", palette=\"Blues_d\", legend=False)\n",
    "sns.stripplot(x=\"Dataset\", y=\"Num_cells\", data=df, color=\"black\", size=5, jitter=True)\n",
    "\n",
    "plt.xlabel(\"Dataset\")\n",
    "plt.ylabel(\"Number of Cells\")\n",
    "plt.title(\"Boxplot of Number of Cells per Sample by Dataset\", fontsize=14)\n",
    "plt.tick_params(axis=\"x\", labelsize=9)\n",
    "\n",
    "plt.show()"
   ]
  },
  {
   "cell_type": "code",
   "execution_count": null,
   "id": "47",
   "metadata": {},
   "outputs": [],
   "source": []
  }
 ],
 "metadata": {
  "kernelspec": {
   "display_name": "augmentation",
   "language": "python",
   "name": "python3"
  },
  "language_info": {
   "codemirror_mode": {
    "name": "ipython",
    "version": 3
   },
   "file_extension": ".py",
   "mimetype": "text/x-python",
   "name": "python",
   "nbconvert_exporter": "python",
   "pygments_lexer": "ipython3",
   "version": "3.9.21"
  }
 },
 "nbformat": 4,
 "nbformat_minor": 5
}
